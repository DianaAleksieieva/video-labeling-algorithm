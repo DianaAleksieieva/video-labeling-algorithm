{
 "cells": [
  {
   "cell_type": "code",
   "execution_count": 15,
   "id": "9e25beee",
   "metadata": {},
   "outputs": [],
   "source": [
    "import os\n",
    "import shutil\n",
    "import datetime\n",
    "import glob\n",
    "from tqdm import tqdm"
   ]
  },
  {
   "cell_type": "code",
   "execution_count": 10,
   "id": "dbc38091",
   "metadata": {},
   "outputs": [
    {
     "data": {
      "text/plain": [
       "1525"
      ]
     },
     "execution_count": 10,
     "metadata": {},
     "output_type": "execute_result"
    }
   ],
   "source": [
    "# 1. Local Directory of your MOV files\n",
    "LOCAL_SOURCE_DIRECTORY = \"./10_3_2023_all_data/\"\n",
    "local_mov_files = glob.glob(os.path.join(LOCAL_SOURCE_DIRECTORY, \"**\", '*.MOV'), recursive=True)\n",
    "len(local_mov_files)\n"
   ]
  },
  {
   "cell_type": "code",
   "execution_count": 14,
   "id": "f61d06f0",
   "metadata": {},
   "outputs": [
    {
     "data": {
      "text/plain": [
       "('6_2023-06-30_11-15-18-5960_None.MOV', '6_2023-06-30_11-15-18-5960_None.MOV')"
      ]
     },
     "execution_count": 14,
     "metadata": {},
     "output_type": "execute_result"
    }
   ],
   "source": [
    "test_MOV_path = local_mov_files[0]\n",
    "test_MOV_path.split(\"/\")[-1], os.path.basename(test_MOV_path)"
   ]
  },
  {
   "cell_type": "code",
   "execution_count": 20,
   "id": "304d1b1b",
   "metadata": {},
   "outputs": [],
   "source": [
    "from moviepy import VideoFileClip\n",
    "\n",
    "def convert_mov_to_mp4(mov_path, mp4_path):\n",
    "    \"\"\"Converts a MOV video file to MP4 format using moviepy.\"\"\"\n",
    "    try:\n",
    "        print(f\"Starting conversion: {os.path.basename(mov_path)} -> {os.path.basename(mp4_path)}\")\n",
    "        # Use a 'with' statement to ensure the clip is closed properly\n",
    "        with VideoFileClip(mov_path) as video_clip:\n",
    "            video_clip.write_videofile(mp4_path, codec=\"libx264\", logger=None)\n",
    "        print(\"Conversion successful.\")\n",
    "        return True\n",
    "    except Exception as e:\n",
    "        print(f\"Error converting {mov_path} to MP4: {e}\")\n",
    "        return False"
   ]
  },
  {
   "cell_type": "code",
   "execution_count": 24,
   "id": "7224c6a7",
   "metadata": {},
   "outputs": [
    {
     "name": "stderr",
     "output_type": "stream",
     "text": [
      "  0%|          | 0/1525 [00:00<?, ?it/s]"
     ]
    },
    {
     "name": "stdout",
     "output_type": "stream",
     "text": [
      "Starting conversion: 6_2023-06-30_11-15-18-5960_None.MOV -> 6_2023-06-30_11-15-18-5960_None.mp4\n"
     ]
    },
    {
     "name": "stderr",
     "output_type": "stream",
     "text": [
      "  0%|          | 0/1525 [00:08<?, ?it/s]"
     ]
    },
    {
     "name": "stdout",
     "output_type": "stream",
     "text": [
      "Conversion successful.\n"
     ]
    },
    {
     "name": "stderr",
     "output_type": "stream",
     "text": [
      "\n"
     ]
    }
   ],
   "source": [
    "TARGET_MP4_FOLDER = \"mp4_folder\"\n",
    "mp4_file_list = []\n",
    "for path in tqdm(local_mov_files):\n",
    "    file_name = os.path.basename(path)\n",
    "    mp4_file_path = os.path.join(TARGET_MP4_FOLDER, f\"{str(file_name).split('.')[0]}.mp4\")\n",
    "    convert_status = convert_mov_to_mp4(path, mp4_file_path)\n",
    "    if not convert_status:\n",
    "        print(f\"Can not connvert file: {file_name}\")\n",
    "    break"
   ]
  },
  {
   "cell_type": "code",
   "execution_count": null,
   "id": "ba5da793",
   "metadata": {},
   "outputs": [
    {
     "data": {
      "text/plain": [
       "24"
      ]
     },
     "execution_count": 25,
     "metadata": {},
     "output_type": "execute_result"
    }
   ],
   "source": [
    "error_list = [{'message': \"Duplicate global key: '6_2023-06-30_11-15-18-5960_None'\", 'failedDataRows': [{'externalId': None, 'rowData': 'https://storage.googleapis.com/labelbox-sidewalk-legacy-data/6_2023-06-30_11-15-18-5960_None.mp4', 'globalKey': '6_2023-06-30_11-15-18-5960_None', 'metadata': None, 'attachments': None}]}, {'message': \"Duplicate global key: '1_2023-06-30_11-07-11-9360_None'\", 'failedDataRows': [{'externalId': None, 'rowData': 'https://storage.googleapis.com/labelbox-sidewalk-legacy-data/1_2023-06-30_11-07-11-9360_None.mp4', 'globalKey': '1_2023-06-30_11-07-11-9360_None', 'metadata': None, 'attachments': None}]}, {'message': \"Duplicate global key: '1_2023-06-30_10-58-42-3550_None'\", 'failedDataRows': [{'externalId': None, 'rowData': 'https://storage.googleapis.com/labelbox-sidewalk-legacy-data/1_2023-06-30_10-58-42-3550_None.mp4', 'globalKey': '1_2023-06-30_10-58-42-3550_None', 'metadata': None, 'attachments': None}]}, {'message': \"Duplicate global key: '3_2023-06-30_10-58-42-3550_None'\", 'failedDataRows': [{'externalId': None, 'rowData': 'https://storage.googleapis.com/labelbox-sidewalk-legacy-data/3_2023-06-30_10-58-42-3550_None.mp4', 'globalKey': '3_2023-06-30_10-58-42-3550_None', 'metadata': None, 'attachments': None}]}, {'message': \"Duplicate global key: '3_2023-06-30_11-07-11-9360_None'\", 'failedDataRows': [{'externalId': None, 'rowData': 'https://storage.googleapis.com/labelbox-sidewalk-legacy-data/3_2023-06-30_11-07-11-9360_None.mp4', 'globalKey': '3_2023-06-30_11-07-11-9360_None', 'metadata': None, 'attachments': None}]}, {'message': \"Duplicate global key: '4_2023-06-30_11-15-18-5960_None'\", 'failedDataRows': [{'externalId': None, 'rowData': 'https://storage.googleapis.com/labelbox-sidewalk-legacy-data/4_2023-06-30_11-15-18-5960_None.mp4', 'globalKey': '4_2023-06-30_11-15-18-5960_None', 'metadata': None, 'attachments': None}]}, {'message': \"Duplicate global key: '7_2023-06-30_11-15-18-5960_None'\", 'failedDataRows': [{'externalId': None, 'rowData': 'https://storage.googleapis.com/labelbox-sidewalk-legacy-data/7_2023-06-30_11-15-18-5960_None.mp4', 'globalKey': '7_2023-06-30_11-15-18-5960_None', 'metadata': None, 'attachments': None}]}, {'message': \"Duplicate global key: '2_2023-06-30_10-58-42-3550_None'\", 'failedDataRows': [{'externalId': None, 'rowData': 'https://storage.googleapis.com/labelbox-sidewalk-legacy-data/2_2023-06-30_10-58-42-3550_None.mp4', 'globalKey': '2_2023-06-30_10-58-42-3550_None', 'metadata': None, 'attachments': None}]}, {'message': \"Duplicate global key: '2_2023-06-30_11-07-11-9360_None'\", 'failedDataRows': [{'externalId': None, 'rowData': 'https://storage.googleapis.com/labelbox-sidewalk-legacy-data/2_2023-06-30_11-07-11-9360_None.mp4', 'globalKey': '2_2023-06-30_11-07-11-9360_None', 'metadata': None, 'attachments': None}]}, {'message': \"Duplicate global key: '5_2023-06-30_11-15-18-5960_None'\", 'failedDataRows': [{'externalId': None, 'rowData': 'https://storage.googleapis.com/labelbox-sidewalk-legacy-data/5_2023-06-30_11-15-18-5960_None.mp4', 'globalKey': '5_2023-06-30_11-15-18-5960_None', 'metadata': None, 'attachments': None}]}, {'message': \"Duplicate global key: '4_2023-06-30_11-07-11-9360_None'\", 'failedDataRows': [{'externalId': None, 'rowData': 'https://storage.googleapis.com/labelbox-sidewalk-legacy-data/4_2023-06-30_11-07-11-9360_None.mp4', 'globalKey': '4_2023-06-30_11-07-11-9360_None', 'metadata': None, 'attachments': None}]}, {'message': \"Duplicate global key: '3_2023-06-30_11-15-18-5960_None'\", 'failedDataRows': [{'externalId': None, 'rowData': 'https://storage.googleapis.com/labelbox-sidewalk-legacy-data/3_2023-06-30_11-15-18-5960_None.mp4', 'globalKey': '3_2023-06-30_11-15-18-5960_None', 'metadata': None, 'attachments': None}]}, {'message': \"Duplicate global key: '2_2023-06-30_11-23-29-2950_None'\", 'failedDataRows': [{'externalId': None, 'rowData': 'https://storage.googleapis.com/labelbox-sidewalk-legacy-data/2_2023-06-30_11-23-29-2950_None.mp4', 'globalKey': '2_2023-06-30_11-23-29-2950_None', 'metadata': None, 'attachments': None}]}, {'message': \"Duplicate global key: '4_2023-06-30_10-58-42-3550_None'\", 'failedDataRows': [{'externalId': None, 'rowData': 'https://storage.googleapis.com/labelbox-sidewalk-legacy-data/4_2023-06-30_10-58-42-3550_None.mp4', 'globalKey': '4_2023-06-30_10-58-42-3550_None', 'metadata': None, 'attachments': None}]}, {'message': \"Duplicate global key: '6_2023-06-30_10-58-42-3550_None'\", 'failedDataRows': [{'externalId': None, 'rowData': 'https://storage.googleapis.com/labelbox-sidewalk-legacy-data/6_2023-06-30_10-58-42-3550_None.mp4', 'globalKey': '6_2023-06-30_10-58-42-3550_None', 'metadata': None, 'attachments': None}]}, {'message': \"Duplicate global key: '1_2023-06-30_11-15-18-5960_None'\", 'failedDataRows': [{'externalId': None, 'rowData': 'https://storage.googleapis.com/labelbox-sidewalk-legacy-data/1_2023-06-30_11-15-18-5960_None.mp4', 'globalKey': '1_2023-06-30_11-15-18-5960_None', 'metadata': None, 'attachments': None}]}, {'message': \"Duplicate global key: '6_2023-06-30_11-07-11-9360_None'\", 'failedDataRows': [{'externalId': None, 'rowData': 'https://storage.googleapis.com/labelbox-sidewalk-legacy-data/6_2023-06-30_11-07-11-9360_None.mp4', 'globalKey': '6_2023-06-30_11-07-11-9360_None', 'metadata': None, 'attachments': None}]}, {'message': \"Duplicate global key: '5_2023-06-30_11-07-11-9360_None'\", 'failedDataRows': [{'externalId': None, 'rowData': 'https://storage.googleapis.com/labelbox-sidewalk-legacy-data/5_2023-06-30_11-07-11-9360_None.mp4', 'globalKey': '5_2023-06-30_11-07-11-9360_None', 'metadata': None, 'attachments': None}]}, {'message': \"Duplicate global key: '8_2023-06-30_10-58-42-3550_None'\", 'failedDataRows': [{'externalId': None, 'rowData': 'https://storage.googleapis.com/labelbox-sidewalk-legacy-data/8_2023-06-30_10-58-42-3550_None.mp4', 'globalKey': '8_2023-06-30_10-58-42-3550_None', 'metadata': None, 'attachments': None}]}, {'message': \"Duplicate global key: '2_2023-06-30_11-15-18-5960_None'\", 'failedDataRows': [{'externalId': None, 'rowData': 'https://storage.googleapis.com/labelbox-sidewalk-legacy-data/2_2023-06-30_11-15-18-5960_None.mp4', 'globalKey': '2_2023-06-30_11-15-18-5960_None', 'metadata': None, 'attachments': None}]}, {'message': \"Duplicate global key: '5_2023-06-30_10-58-42-3550_None'\", 'failedDataRows': [{'externalId': None, 'rowData': 'https://storage.googleapis.com/labelbox-sidewalk-legacy-data/5_2023-06-30_10-58-42-3550_None.mp4', 'globalKey': '5_2023-06-30_10-58-42-3550_None', 'metadata': None, 'attachments': None}]}, {'message': \"Duplicate global key: '7_2023-06-30_10-58-42-3550_None'\", 'failedDataRows': [{'externalId': None, 'rowData': 'https://storage.googleapis.com/labelbox-sidewalk-legacy-data/7_2023-06-30_10-58-42-3550_None.mp4', 'globalKey': '7_2023-06-30_10-58-42-3550_None', 'metadata': None, 'attachments': None}]}, {'message': \"Duplicate global key: '1_2023-06-30_11-23-29-2950_None'\", 'failedDataRows': [{'externalId': None, 'rowData': 'https://storage.googleapis.com/labelbox-sidewalk-legacy-data/1_2023-06-30_11-23-29-2950_None.mp4', 'globalKey': '1_2023-06-30_11-23-29-2950_None', 'metadata': None, 'attachments': None}]}, {'message': \"Duplicate global key: '7_2023-06-30_11-07-11-9360_None'\", 'failedDataRows': [{'externalId': None, 'rowData': 'https://storage.googleapis.com/labelbox-sidewalk-legacy-data/7_2023-06-30_11-07-11-9360_None.mp4', 'globalKey': '7_2023-06-30_11-07-11-9360_None', 'metadata': None, 'attachments': None}]}]\n",
    "duplicated_keys = []\n",
    "len(error_list)"
   ]
  },
  {
   "cell_type": "code",
   "execution_count": 26,
   "id": "7c8e5964",
   "metadata": {},
   "outputs": [
    {
     "data": {
      "text/plain": [
       "{'message': \"Duplicate global key: '6_2023-06-30_11-15-18-5960_None'\",\n",
       " 'failedDataRows': [{'externalId': None,\n",
       "   'rowData': 'https://storage.googleapis.com/labelbox-sidewalk-legacy-data/6_2023-06-30_11-15-18-5960_None.mp4',\n",
       "   'globalKey': '6_2023-06-30_11-15-18-5960_None',\n",
       "   'metadata': None,\n",
       "   'attachments': None}]}"
      ]
     },
     "execution_count": 26,
     "metadata": {},
     "output_type": "execute_result"
    }
   ],
   "source": [
    "error_list[0]"
   ]
  },
  {
   "cell_type": "code",
   "execution_count": 31,
   "id": "68d3c300",
   "metadata": {},
   "outputs": [],
   "source": [
    "duplicated_key_list = [item['failedDataRows'][0][\"globalKey\"] for item in error_list]\n",
    "# duplicated_key_list\n",
    "result_dict = {}\n",
    "for key in duplicated_key_list:\n",
    "    result_dict[key] = []\n",
    "    for local_file in local_mov_files:\n",
    "        file_path = os.path.basename(local_file)\n",
    "        file_name = file_path.split(\".\")[0]\n",
    "        if key == file_name:\n",
    "            result_dict[key].append(local_file)\n"
   ]
  },
  {
   "cell_type": "code",
   "execution_count": 32,
   "id": "974967a6",
   "metadata": {},
   "outputs": [
    {
     "data": {
      "text/plain": [
       "{'6_2023-06-30_11-15-18-5960_None': ['./10_3_2023_all_data/testbed/old_testbed/user_data/wayne/6_2023-06-30_11-15-18-5960_None.MOV',\n",
       "  './10_3_2023_all_data/testbed/user_data/nihal/6_2023-06-30_11-15-18-5960_None.MOV'],\n",
       " '1_2023-06-30_11-07-11-9360_None': ['./10_3_2023_all_data/testbed/old_testbed/user_data/wayne/1_2023-06-30_11-07-11-9360_None.MOV',\n",
       "  './10_3_2023_all_data/testbed/user_data/nihal/1_2023-06-30_11-07-11-9360_None.MOV'],\n",
       " '1_2023-06-30_10-58-42-3550_None': ['./10_3_2023_all_data/testbed/old_testbed/user_data/wayne/1_2023-06-30_10-58-42-3550_None.MOV',\n",
       "  './10_3_2023_all_data/testbed/user_data/nihal/1_2023-06-30_10-58-42-3550_None.MOV'],\n",
       " '3_2023-06-30_10-58-42-3550_None': ['./10_3_2023_all_data/testbed/old_testbed/user_data/wayne/3_2023-06-30_10-58-42-3550_None.MOV',\n",
       "  './10_3_2023_all_data/testbed/user_data/nihal/3_2023-06-30_10-58-42-3550_None.MOV'],\n",
       " '3_2023-06-30_11-07-11-9360_None': ['./10_3_2023_all_data/testbed/old_testbed/user_data/wayne/3_2023-06-30_11-07-11-9360_None.MOV',\n",
       "  './10_3_2023_all_data/testbed/user_data/nihal/3_2023-06-30_11-07-11-9360_None.MOV'],\n",
       " '4_2023-06-30_11-15-18-5960_None': ['./10_3_2023_all_data/testbed/old_testbed/user_data/wayne/4_2023-06-30_11-15-18-5960_None.MOV',\n",
       "  './10_3_2023_all_data/testbed/user_data/nihal/4_2023-06-30_11-15-18-5960_None.MOV'],\n",
       " '7_2023-06-30_11-15-18-5960_None': ['./10_3_2023_all_data/testbed/old_testbed/user_data/wayne/7_2023-06-30_11-15-18-5960_None.MOV',\n",
       "  './10_3_2023_all_data/testbed/user_data/nihal/7_2023-06-30_11-15-18-5960_None.MOV'],\n",
       " '2_2023-06-30_10-58-42-3550_None': ['./10_3_2023_all_data/testbed/old_testbed/user_data/wayne/2_2023-06-30_10-58-42-3550_None.MOV',\n",
       "  './10_3_2023_all_data/testbed/user_data/nihal/2_2023-06-30_10-58-42-3550_None.MOV'],\n",
       " '2_2023-06-30_11-07-11-9360_None': ['./10_3_2023_all_data/testbed/old_testbed/user_data/wayne/2_2023-06-30_11-07-11-9360_None.MOV',\n",
       "  './10_3_2023_all_data/testbed/user_data/nihal/2_2023-06-30_11-07-11-9360_None.MOV'],\n",
       " '5_2023-06-30_11-15-18-5960_None': ['./10_3_2023_all_data/testbed/old_testbed/user_data/wayne/5_2023-06-30_11-15-18-5960_None.MOV',\n",
       "  './10_3_2023_all_data/testbed/user_data/nihal/5_2023-06-30_11-15-18-5960_None.MOV'],\n",
       " '4_2023-06-30_11-07-11-9360_None': ['./10_3_2023_all_data/testbed/old_testbed/user_data/wayne/4_2023-06-30_11-07-11-9360_None.MOV',\n",
       "  './10_3_2023_all_data/testbed/user_data/nihal/4_2023-06-30_11-07-11-9360_None.MOV'],\n",
       " '3_2023-06-30_11-15-18-5960_None': ['./10_3_2023_all_data/testbed/old_testbed/user_data/wayne/3_2023-06-30_11-15-18-5960_None.MOV',\n",
       "  './10_3_2023_all_data/testbed/user_data/nihal/3_2023-06-30_11-15-18-5960_None.MOV'],\n",
       " '2_2023-06-30_11-23-29-2950_None': ['./10_3_2023_all_data/testbed/old_testbed/user_data/wayne/2_2023-06-30_11-23-29-2950_None.MOV',\n",
       "  './10_3_2023_all_data/testbed/user_data/nihal/2_2023-06-30_11-23-29-2950_None.MOV'],\n",
       " '4_2023-06-30_10-58-42-3550_None': ['./10_3_2023_all_data/testbed/old_testbed/user_data/wayne/4_2023-06-30_10-58-42-3550_None.MOV',\n",
       "  './10_3_2023_all_data/testbed/user_data/nihal/4_2023-06-30_10-58-42-3550_None.MOV'],\n",
       " '6_2023-06-30_10-58-42-3550_None': ['./10_3_2023_all_data/testbed/old_testbed/user_data/wayne/6_2023-06-30_10-58-42-3550_None.MOV',\n",
       "  './10_3_2023_all_data/testbed/user_data/nihal/6_2023-06-30_10-58-42-3550_None.MOV'],\n",
       " '1_2023-06-30_11-15-18-5960_None': ['./10_3_2023_all_data/testbed/old_testbed/user_data/wayne/1_2023-06-30_11-15-18-5960_None.MOV',\n",
       "  './10_3_2023_all_data/testbed/user_data/nihal/1_2023-06-30_11-15-18-5960_None.MOV'],\n",
       " '6_2023-06-30_11-07-11-9360_None': ['./10_3_2023_all_data/testbed/old_testbed/user_data/wayne/6_2023-06-30_11-07-11-9360_None.MOV',\n",
       "  './10_3_2023_all_data/testbed/user_data/nihal/6_2023-06-30_11-07-11-9360_None.MOV'],\n",
       " '5_2023-06-30_11-07-11-9360_None': ['./10_3_2023_all_data/testbed/old_testbed/user_data/wayne/5_2023-06-30_11-07-11-9360_None.MOV',\n",
       "  './10_3_2023_all_data/testbed/user_data/nihal/5_2023-06-30_11-07-11-9360_None.MOV'],\n",
       " '8_2023-06-30_10-58-42-3550_None': ['./10_3_2023_all_data/testbed/old_testbed/user_data/wayne/8_2023-06-30_10-58-42-3550_None.MOV',\n",
       "  './10_3_2023_all_data/testbed/user_data/nihal/8_2023-06-30_10-58-42-3550_None.MOV'],\n",
       " '2_2023-06-30_11-15-18-5960_None': ['./10_3_2023_all_data/testbed/old_testbed/user_data/wayne/2_2023-06-30_11-15-18-5960_None.MOV',\n",
       "  './10_3_2023_all_data/testbed/user_data/nihal/2_2023-06-30_11-15-18-5960_None.MOV'],\n",
       " '5_2023-06-30_10-58-42-3550_None': ['./10_3_2023_all_data/testbed/old_testbed/user_data/wayne/5_2023-06-30_10-58-42-3550_None.MOV',\n",
       "  './10_3_2023_all_data/testbed/user_data/nihal/5_2023-06-30_10-58-42-3550_None.MOV'],\n",
       " '7_2023-06-30_10-58-42-3550_None': ['./10_3_2023_all_data/testbed/old_testbed/user_data/wayne/7_2023-06-30_10-58-42-3550_None.MOV',\n",
       "  './10_3_2023_all_data/testbed/user_data/nihal/7_2023-06-30_10-58-42-3550_None.MOV'],\n",
       " '1_2023-06-30_11-23-29-2950_None': ['./10_3_2023_all_data/testbed/old_testbed/user_data/wayne/1_2023-06-30_11-23-29-2950_None.MOV',\n",
       "  './10_3_2023_all_data/testbed/user_data/nihal/1_2023-06-30_11-23-29-2950_None.MOV'],\n",
       " '7_2023-06-30_11-07-11-9360_None': ['./10_3_2023_all_data/testbed/old_testbed/user_data/wayne/7_2023-06-30_11-07-11-9360_None.MOV',\n",
       "  './10_3_2023_all_data/testbed/user_data/nihal/7_2023-06-30_11-07-11-9360_None.MOV']}"
      ]
     },
     "execution_count": 32,
     "metadata": {},
     "output_type": "execute_result"
    }
   ],
   "source": [
    "result_dict"
   ]
  },
  {
   "cell_type": "code",
   "execution_count": 33,
   "id": "7f2ecb71",
   "metadata": {},
   "outputs": [
    {
     "data": {
      "text/plain": [
       "24"
      ]
     },
     "execution_count": 33,
     "metadata": {},
     "output_type": "execute_result"
    }
   ],
   "source": [
    "len(list(result_dict.keys()))"
   ]
  },
  {
   "cell_type": "code",
   "execution_count": null,
   "id": "16e12cd0",
   "metadata": {},
   "outputs": [],
   "source": []
  }
 ],
 "metadata": {
  "kernelspec": {
   "display_name": "labelbox",
   "language": "python",
   "name": "python3"
  },
  "language_info": {
   "codemirror_mode": {
    "name": "ipython",
    "version": 3
   },
   "file_extension": ".py",
   "mimetype": "text/x-python",
   "name": "python",
   "nbconvert_exporter": "python",
   "pygments_lexer": "ipython3",
   "version": "3.10.18"
  }
 },
 "nbformat": 4,
 "nbformat_minor": 5
}
