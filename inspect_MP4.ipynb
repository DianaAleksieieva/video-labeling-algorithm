{
 "cells": [
  {
   "cell_type": "code",
   "execution_count": 1,
   "id": "a6d943f4",
   "metadata": {},
   "outputs": [
    {
     "name": "stdout",
     "output_type": "stream",
     "text": [
      "MP4文件数量: 1501\n"
     ]
    }
   ],
   "source": [
    "import os\n",
    "import pandas as pd\n",
    "from glob import glob\n",
    "\n",
    "# 1. 统计labelbox_sidewalk_legacy_data下的MP4文件数量\n",
    "mp4_dir = 'labelbox_sidewalk_legacy_data'\n",
    "mp4_files = [f for f in os.listdir(mp4_dir) if f.lower().endswith('.mp4')]\n",
    "print(f\"MP4文件数量: {len(mp4_files)}\")"
   ]
  },
  {
   "cell_type": "code",
   "execution_count": 2,
   "id": "d92f9b3d",
   "metadata": {},
   "outputs": [
    {
     "name": "stdout",
     "output_type": "stream",
     "text": [
      "缺失的视频数量: 0\n"
     ]
    },
    {
     "data": {
      "text/html": [
       "<div>\n",
       "<style scoped>\n",
       "    .dataframe tbody tr th:only-of-type {\n",
       "        vertical-align: middle;\n",
       "    }\n",
       "\n",
       "    .dataframe tbody tr th {\n",
       "        vertical-align: top;\n",
       "    }\n",
       "\n",
       "    .dataframe thead th {\n",
       "        text-align: right;\n",
       "    }\n",
       "</style>\n",
       "<table border=\"1\" class=\"dataframe\">\n",
       "  <thead>\n",
       "    <tr style=\"text-align: right;\">\n",
       "      <th></th>\n",
       "      <th>video_name</th>\n",
       "      <th>collector_name</th>\n",
       "      <th>material</th>\n",
       "      <th>full_path</th>\n",
       "      <th>duration</th>\n",
       "      <th>video_name_mp4</th>\n",
       "    </tr>\n",
       "  </thead>\n",
       "  <tbody>\n",
       "  </tbody>\n",
       "</table>\n",
       "</div>"
      ],
      "text/plain": [
       "Empty DataFrame\n",
       "Columns: [video_name, collector_name, material, full_path, duration, video_name_mp4]\n",
       "Index: []"
      ]
     },
     "execution_count": 2,
     "metadata": {},
     "output_type": "execute_result"
    }
   ],
   "source": [
    "# 2. 读取continuous_videos.csv，找出不在labelbox_sidewalk_legacy_data中的视频\n",
    "csv_path = 'data/continuous_videos.csv'\n",
    "df = pd.read_csv(csv_path)\n",
    "\n",
    "# 提取csv中的视频名（去掉扩展名，改为.mp4）\n",
    "def mov_to_mp4(name):\n",
    "    if name.lower().endswith('.mov'):\n",
    "        return name[:-4] + '.mp4'\n",
    "    return name\n",
    "df['video_name_mp4'] = df['video_name'].apply(mov_to_mp4)\n",
    "\n",
    "# 统计本地已有的mp4文件名集合\n",
    "mp4_set = set(mp4_files)\n",
    "\n",
    "# 找出不在本地的mp4\n",
    "missing_mask = ~df['video_name_mp4'].isin(mp4_set)\n",
    "missing_data_df = df[missing_mask].copy()\n",
    "print(f\"缺失的视频数量: {len(missing_data_df)}\")\n",
    "missing_data_df.head()"
   ]
  },
  {
   "cell_type": "code",
   "execution_count": null,
   "id": "1a6cc98a",
   "metadata": {},
   "outputs": [],
   "source": []
  },
  {
   "cell_type": "code",
   "execution_count": null,
   "id": "e1ac232a",
   "metadata": {},
   "outputs": [],
   "source": []
  }
 ],
 "metadata": {
  "kernelspec": {
   "display_name": "labelbox",
   "language": "python",
   "name": "python3"
  },
  "language_info": {
   "codemirror_mode": {
    "name": "ipython",
    "version": 3
   },
   "file_extension": ".py",
   "mimetype": "text/x-python",
   "name": "python",
   "nbconvert_exporter": "python",
   "pygments_lexer": "ipython3",
   "version": "3.10.18"
  }
 },
 "nbformat": 4,
 "nbformat_minor": 5
}
